{
  "nbformat": 4,
  "nbformat_minor": 0,
  "metadata": {
    "colab": {
      "provenance": [],
      "authorship_tag": "ABX9TyP+bNFDl8Axz/t8uPpui94L",
      "include_colab_link": true
    },
    "kernelspec": {
      "name": "python3",
      "display_name": "Python 3"
    },
    "language_info": {
      "name": "python"
    }
  },
  "cells": [
    {
      "cell_type": "markdown",
      "metadata": {
        "id": "view-in-github",
        "colab_type": "text"
      },
      "source": [
        "<a href=\"https://colab.research.google.com/github/shreyamali01/CS203_Lab07/blob/main/Lab7.ipynb\" target=\"_parent\"><img src=\"https://colab.research.google.com/assets/colab-badge.svg\" alt=\"Open In Colab\"/></a>"
      ]
    },
    {
      "cell_type": "markdown",
      "source": [
        "### **Step 1 : Dataset Preparation**"
      ],
      "metadata": {
        "id": "QsT_oCLMNhHw"
      }
    },
    {
      "cell_type": "markdown",
      "source": [
        "Installing Required Libraries"
      ],
      "metadata": {
        "id": "zMaKTEd9j322"
      }
    },
    {
      "cell_type": "code",
      "source": [
        "pip install scikit-learn -q"
      ],
      "metadata": {
        "id": "7dKftlhwj8Pe"
      },
      "execution_count": 1,
      "outputs": []
    },
    {
      "cell_type": "code",
      "source": [
        "pip install transformers -q"
      ],
      "metadata": {
        "colab": {
          "base_uri": "https://localhost:8080/"
        },
        "id": "YYSZpYacs1HQ",
        "outputId": "36f12a57-035e-4ad4-c9ea-dffd7f1b94da"
      },
      "execution_count": 2,
      "outputs": [
        {
          "output_type": "stream",
          "name": "stdout",
          "text": [
            "Requirement already satisfied: transformers in /usr/local/lib/python3.11/dist-packages (4.48.3)\n",
            "Requirement already satisfied: filelock in /usr/local/lib/python3.11/dist-packages (from transformers) (3.17.0)\n",
            "Requirement already satisfied: huggingface-hub<1.0,>=0.24.0 in /usr/local/lib/python3.11/dist-packages (from transformers) (0.28.1)\n",
            "Requirement already satisfied: numpy>=1.17 in /usr/local/lib/python3.11/dist-packages (from transformers) (1.26.4)\n",
            "Requirement already satisfied: packaging>=20.0 in /usr/local/lib/python3.11/dist-packages (from transformers) (24.2)\n",
            "Requirement already satisfied: pyyaml>=5.1 in /usr/local/lib/python3.11/dist-packages (from transformers) (6.0.2)\n",
            "Requirement already satisfied: regex!=2019.12.17 in /usr/local/lib/python3.11/dist-packages (from transformers) (2024.11.6)\n",
            "Requirement already satisfied: requests in /usr/local/lib/python3.11/dist-packages (from transformers) (2.32.3)\n",
            "Requirement already satisfied: tokenizers<0.22,>=0.21 in /usr/local/lib/python3.11/dist-packages (from transformers) (0.21.0)\n",
            "Requirement already satisfied: safetensors>=0.4.1 in /usr/local/lib/python3.11/dist-packages (from transformers) (0.5.3)\n",
            "Requirement already satisfied: tqdm>=4.27 in /usr/local/lib/python3.11/dist-packages (from transformers) (4.67.1)\n",
            "Requirement already satisfied: fsspec>=2023.5.0 in /usr/local/lib/python3.11/dist-packages (from huggingface-hub<1.0,>=0.24.0->transformers) (2024.10.0)\n",
            "Requirement already satisfied: typing-extensions>=3.7.4.3 in /usr/local/lib/python3.11/dist-packages (from huggingface-hub<1.0,>=0.24.0->transformers) (4.12.2)\n",
            "Requirement already satisfied: charset-normalizer<4,>=2 in /usr/local/lib/python3.11/dist-packages (from requests->transformers) (3.4.1)\n",
            "Requirement already satisfied: idna<4,>=2.5 in /usr/local/lib/python3.11/dist-packages (from requests->transformers) (3.10)\n",
            "Requirement already satisfied: urllib3<3,>=1.21.1 in /usr/local/lib/python3.11/dist-packages (from requests->transformers) (2.3.0)\n",
            "Requirement already satisfied: certifi>=2017.4.17 in /usr/local/lib/python3.11/dist-packages (from requests->transformers) (2025.1.31)\n"
          ]
        }
      ]
    },
    {
      "cell_type": "code",
      "source": [
        "pip install tensorboard==2.18.0"
      ],
      "metadata": {
        "colab": {
          "base_uri": "https://localhost:8080/"
        },
        "id": "W9fpEMF6_wLT",
        "outputId": "5c8cb2d2-aa92-4091-c798-67d05255ceb0"
      },
      "execution_count": 148,
      "outputs": [
        {
          "output_type": "stream",
          "name": "stdout",
          "text": [
            "Requirement already satisfied: tensorboard==2.18.0 in /usr/local/lib/python3.11/dist-packages (2.18.0)\n",
            "Requirement already satisfied: absl-py>=0.4 in /usr/local/lib/python3.11/dist-packages (from tensorboard==2.18.0) (1.4.0)\n",
            "Requirement already satisfied: grpcio>=1.48.2 in /usr/local/lib/python3.11/dist-packages (from tensorboard==2.18.0) (1.71.0)\n",
            "Requirement already satisfied: markdown>=2.6.8 in /usr/local/lib/python3.11/dist-packages (from tensorboard==2.18.0) (3.7)\n",
            "Requirement already satisfied: numpy>=1.12.0 in /usr/local/lib/python3.11/dist-packages (from tensorboard==2.18.0) (1.26.4)\n",
            "Requirement already satisfied: packaging in /usr/local/lib/python3.11/dist-packages (from tensorboard==2.18.0) (24.2)\n",
            "Requirement already satisfied: protobuf!=4.24.0,>=3.19.6 in /usr/local/lib/python3.11/dist-packages (from tensorboard==2.18.0) (4.25.6)\n",
            "Requirement already satisfied: setuptools>=41.0.0 in /usr/local/lib/python3.11/dist-packages (from tensorboard==2.18.0) (75.1.0)\n",
            "Requirement already satisfied: six>1.9 in /usr/local/lib/python3.11/dist-packages (from tensorboard==2.18.0) (1.17.0)\n",
            "Requirement already satisfied: tensorboard-data-server<0.8.0,>=0.7.0 in /usr/local/lib/python3.11/dist-packages (from tensorboard==2.18.0) (0.7.2)\n",
            "Requirement already satisfied: werkzeug>=1.0.1 in /usr/local/lib/python3.11/dist-packages (from tensorboard==2.18.0) (3.1.3)\n",
            "Requirement already satisfied: MarkupSafe>=2.1.1 in /usr/local/lib/python3.11/dist-packages (from werkzeug>=1.0.1->tensorboard==2.18.0) (3.0.2)\n"
          ]
        }
      ]
    },
    {
      "cell_type": "markdown",
      "source": [
        "Importing Required Libraries"
      ],
      "metadata": {
        "id": "nmi9PkrNThLQ"
      }
    },
    {
      "cell_type": "code",
      "source": [
        "#importing required libraries\n",
        "import pandas as pd\n",
        "from sklearn.model_selection import train_test_split\n",
        "import torch\n",
        "import torch.nn as nn\n",
        "import torch.nn.functional as F\n",
        "from sklearn.feature_extraction.text import CountVectorizer\n",
        "from transformers import AutoTokenizer, AutoModel\n",
        "from torch.utils.tensorboard import SummaryWriter\n",
        "import torch.optim as optim\n",
        "from torch.utils.data import DataLoader, TensorDataset\n",
        "import seaborn as sns\n",
        "import matplotlib.pyplot as plt\n",
        "from sklearn.metrics import confusion_matrix"
      ],
      "metadata": {
        "id": "tC-SfU3dTmMf"
      },
      "execution_count": 68,
      "outputs": []
    },
    {
      "cell_type": "markdown",
      "source": [
        "Loading Dataset 1"
      ],
      "metadata": {
        "id": "woe1BHZUTafw"
      }
    },
    {
      "cell_type": "code",
      "execution_count": 69,
      "metadata": {
        "colab": {
          "base_uri": "https://localhost:8080/"
        },
        "id": "iGpqn3XJNKZg",
        "outputId": "7d9ea1b8-58e1-4250-ecbf-fc2196af2d86"
      },
      "outputs": [
        {
          "output_type": "stream",
          "name": "stdout",
          "text": [
            "                                           sentences  labels\n",
            "0  a stirring , funny and finally transporting re...       1\n",
            "1  apparently reassembled from the cutting room f...       0\n",
            "2  they presume their audience wo n't sit still f...       0\n",
            "3  this is a visually stunning rumination on love...       1\n",
            "4  jonathan parker 's bartleby should have been t...       1\n"
          ]
        }
      ],
      "source": [
        "#loading train and test datset 1 from URL\n",
        "url_train = \"https://raw.githubusercontent.com/clairett/pytorch-sentiment-classification/master/data/SST2/train.tsv\"\n",
        "train_data = pd.read_csv(url_train, delimiter='\\t', header=None)\n",
        "url_test = \"https://raw.githubusercontent.com/clairett/pytorch-sentiment-classification/master/data/SST2/test.tsv\"\n",
        "test_data = pd.read_csv(url_test, delimiter='\\t', header=None)\n",
        "\n",
        "#adding columns for clarity\n",
        "train_data.columns = ['sentences', 'labels']\n",
        "test_data.columns = ['sentences', 'labels']\n",
        "\n",
        "#printing first few rows of the dataset\n",
        "print(train_data.head())"
      ]
    },
    {
      "cell_type": "markdown",
      "source": [
        "Printing Dataset 1 Statistics"
      ],
      "metadata": {
        "id": "rVAgp6c0bkkN"
      }
    },
    {
      "cell_type": "code",
      "source": [
        "print(f\"training set size: {len(train_data)}\")\n",
        "print(f\"test set size: {len(test_data)}\")"
      ],
      "metadata": {
        "colab": {
          "base_uri": "https://localhost:8080/"
        },
        "id": "vUb_sOy1bkU1",
        "outputId": "0080d8e3-0fd0-4394-ceaf-9684ff0428fc"
      },
      "execution_count": 70,
      "outputs": [
        {
          "output_type": "stream",
          "name": "stdout",
          "text": [
            "training set size: 6920\n",
            "test set size: 1821\n"
          ]
        }
      ]
    },
    {
      "cell_type": "markdown",
      "source": [
        "Splitting Dataset 1 into Training and Validation Sets"
      ],
      "metadata": {
        "id": "u2FwpUUjVwZu"
      }
    },
    {
      "cell_type": "code",
      "source": [
        "#splitting dataset 1 into train set 80% and validation set 20%\n",
        "train_data, val_data = train_test_split(train_data, test_size=0.2, random_state=42)\n",
        "\n",
        "#checking sizes of the splits\n",
        "print(f\"training set size: {len(train_data)}\")\n",
        "print(f\"validation set size: {len(val_data)}\")"
      ],
      "metadata": {
        "colab": {
          "base_uri": "https://localhost:8080/"
        },
        "id": "tfUyp8e4V_ze",
        "outputId": "4fe628a5-67d0-4c54-d183-bfd43405b83b"
      },
      "execution_count": 71,
      "outputs": [
        {
          "output_type": "stream",
          "name": "stdout",
          "text": [
            "training set size: 5536\n",
            "validation set size: 1384\n"
          ]
        }
      ]
    },
    {
      "cell_type": "code",
      "source": [
        "#displaying the first few rows of training and validation sets\n",
        "print(\"\\nTraining set:\")\n",
        "print(train_data.head())\n",
        "\n",
        "print(\"\\nValidation set:\")\n",
        "print(val_data.head())"
      ],
      "metadata": {
        "colab": {
          "base_uri": "https://localhost:8080/"
        },
        "id": "uAimbC9uWsEr",
        "outputId": "45829360-07f8-4f40-dc82-bd8fff26cb02"
      },
      "execution_count": 72,
      "outputs": [
        {
          "output_type": "stream",
          "name": "stdout",
          "text": [
            "\n",
            "Training set:\n",
            "                                              sentences  labels\n",
            "4457  graphic sex may be what 's attracting audience...       1\n",
            "2471               perhaps the grossest movie ever made       0\n",
            "26    the film is moody , oozing , chilling and hear...       1\n",
            "4828  watching the chemistry between freeman and jud...       1\n",
            "63    the wonderfully lush morvern callar is pure pu...       1\n",
            "\n",
            "Validation set:\n",
            "                                              sentences  labels\n",
            "468                                 overly melodramatic       0\n",
            "1956  lrb westbrook rrb makes a wonderful subject fo...       1\n",
            "800    mama africa pretty much delivers on that promise       1\n",
            "6474                                sad nonsense , this       0\n",
            "2389  easily the most thoughtful fictional examinati...       1\n"
          ]
        }
      ]
    },
    {
      "cell_type": "markdown",
      "source": [
        "Loading IMDB Dataset (Dataset 2)"
      ],
      "metadata": {
        "id": "YVMlY9X_BbVt"
      }
    },
    {
      "cell_type": "code",
      "source": [
        "#loading IMDB Dataset (Dataset 2)\n",
        "url_imdb = \"https://raw.githubusercontent.com/Ankit152/IMDB-sentiment-analysis/master/IMDB-Dataset.csv\"\n",
        "imdb_data = pd.read_csv(url_imdb)\n",
        "\n",
        "#printing first few rows of the dataset\n",
        "print(imdb_data.head())"
      ],
      "metadata": {
        "colab": {
          "base_uri": "https://localhost:8080/"
        },
        "id": "lgMqxzUjBeEJ",
        "outputId": "7d5a7a42-0422-40fe-ce67-f87ca476e9a2"
      },
      "execution_count": 73,
      "outputs": [
        {
          "output_type": "stream",
          "name": "stdout",
          "text": [
            "                                              review sentiment\n",
            "0  One of the other reviewers has mentioned that ...  positive\n",
            "1  A wonderful little production. <br /><br />The...  positive\n",
            "2  I thought this was a wonderful way to spend ti...  positive\n",
            "3  Basically there's a family where a little boy ...  negative\n",
            "4  Petter Mattei's \"Love in the Time of Money\" is...  positive\n"
          ]
        }
      ]
    },
    {
      "cell_type": "markdown",
      "source": [
        "Preprocessing IMDB Dataset (Dataset 2)"
      ],
      "metadata": {
        "id": "2gsZ-RY3BzpA"
      }
    },
    {
      "cell_type": "code",
      "source": [
        "#renaming the columns\n",
        "imdb_data.columns = ['sentences', 'labels']\n",
        "\n",
        "#converting sentiment labels to binary\n",
        "imdb_data['labels'] = imdb_data['labels'].map({'positive': 1, 'negative': 0})\n",
        "\n",
        "#splitting the IMDB dataset training and validation sets\n",
        "imdb_train, imdb_val = train_test_split(imdb_data, test_size=0.2, random_state=42, stratify=imdb_data['labels'])\n",
        "\n",
        "#checking the size of the splits\n",
        "print(f\"IMDB training set size: {len(imdb_train)}\")\n",
        "print(f\"IMDB validation set size: {len(imdb_val)}\")"
      ],
      "metadata": {
        "colab": {
          "base_uri": "https://localhost:8080/"
        },
        "id": "lBmQDqW3B2kw",
        "outputId": "ac744af7-df1c-49b6-bb85-06f5ccdb2543"
      },
      "execution_count": 50,
      "outputs": [
        {
          "output_type": "stream",
          "name": "stdout",
          "text": [
            "IMDB training set size: 40000\n",
            "IMDB validation set size: 10000\n"
          ]
        }
      ]
    },
    {
      "cell_type": "code",
      "source": [
        "#displaying the first few rows of training and validation sets\n",
        "print(\"\\nTraining set:\")\n",
        "print(imdb_train.head())\n",
        "\n",
        "print(\"\\nValidation set:\")\n",
        "print(imdb_val.head())"
      ],
      "metadata": {
        "colab": {
          "base_uri": "https://localhost:8080/"
        },
        "id": "nrU4qlFBB5m4",
        "outputId": "5eb735c8-8aef-4600-b873-2b0345d54b82"
      },
      "execution_count": 74,
      "outputs": [
        {
          "output_type": "stream",
          "name": "stdout",
          "text": [
            "\n",
            "Training set:\n",
            "                                               sentences  labels\n",
            "47808  I caught this little gem totally by accident b...       1\n",
            "20154  I can't believe that I let myself into this mo...       0\n",
            "43069  *spoiler alert!* it just gets to me the nerve ...       0\n",
            "19413  If there's one thing I've learnt from watching...       0\n",
            "13673  I remember when this was in theaters, reviews ...       0\n",
            "\n",
            "Validation set:\n",
            "                                               sentences  labels\n",
            "18870  Yes, MTV there really is a way to market Daria...       0\n",
            "39791  The story of the bride fair is an amusing and ...       0\n",
            "30381  A team varied between Scully and Mulder, two o...       1\n",
            "42294  This was a popular movie probably because of t...       0\n",
            "33480  This movie made me so angry!! Here I am thinki...       0\n"
          ]
        }
      ]
    },
    {
      "cell_type": "markdown",
      "source": [
        "### **Step 2 : Constructing a Multi-Layer Preceptron Model**"
      ],
      "metadata": {
        "id": "OfpX0pLQZAh5"
      }
    },
    {
      "cell_type": "markdown",
      "source": [
        "Defining the MLP Model"
      ],
      "metadata": {
        "id": "iWXUkFX6fxd5"
      }
    },
    {
      "cell_type": "code",
      "source": [
        "#deining the MLP model\n",
        "class MLP(nn.Module):\n",
        "    def __init__(self, input_size, hidden_sizes, output_size, dropout_prob=0.3):\n",
        "        super(MLP, self).__init__()\n",
        "\n",
        "        #input layer to first hidden layer\n",
        "        self.layers = nn.ModuleList()\n",
        "        self.layers.append(nn.Linear(input_size, hidden_sizes[0]))\n",
        "\n",
        "        #adding hidden layers\n",
        "        for i in range(1, len(hidden_sizes)):\n",
        "            self.layers.append(nn.Linear(hidden_sizes[i-1], hidden_sizes[i]))\n",
        "\n",
        "            #output layer\n",
        "            self.output_layer = nn.Linear(hidden_sizes[-1], output_size)\n",
        "\n",
        "            #activation function\n",
        "            self.activation = nn.ReLU()\n",
        "\n",
        "            #dropout layer\n",
        "            self.dropout = nn.Dropout(dropout_prob)\n",
        "\n",
        "    def forward(self, x):\n",
        "        for layer in self.layers:\n",
        "            x = self.activation(layer(x))\n",
        "            #applying dropout after activation\n",
        "            x = self.dropout(x)\n",
        "        x = self.output_layer(x)\n",
        "        return x"
      ],
      "metadata": {
        "id": "IYzMgim6f1yX"
      },
      "execution_count": 75,
      "outputs": []
    },
    {
      "cell_type": "markdown",
      "source": [
        "Defining an automated function"
      ],
      "metadata": {
        "id": "DFsORZ93pXGv"
      }
    },
    {
      "cell_type": "code",
      "source": [
        "def count_parameters(model):\n",
        "    return sum(p.numel() for p in model.parameters() if p.requires_grad)"
      ],
      "metadata": {
        "id": "R7xVCtebpcm0"
      },
      "execution_count": 94,
      "outputs": []
    },
    {
      "cell_type": "markdown",
      "source": [
        "Model for BOW features (1000 features)"
      ],
      "metadata": {
        "id": "x4aB6ZJtzWUI"
      }
    },
    {
      "cell_type": "code",
      "source": [
        "device = torch.device(\"cuda\" if torch.cuda.is_available() else \"cpu\")\n",
        "model_bow = MLP(\n",
        "    input_size=10000,\n",
        "    hidden_sizes=[512, 256, 128, 64],\n",
        "    output_size=2,\n",
        "    dropout_prob=0.3\n",
        ").to(device)"
      ],
      "metadata": {
        "id": "A4fRghxMzbgs"
      },
      "execution_count": 121,
      "outputs": []
    },
    {
      "cell_type": "markdown",
      "source": [
        "Model Summary"
      ],
      "metadata": {
        "id": "O6upd6zHzh5f"
      }
    },
    {
      "cell_type": "code",
      "source": [
        "print(\"BoW Model Architecture:\")\n",
        "print(model_bow)"
      ],
      "metadata": {
        "colab": {
          "base_uri": "https://localhost:8080/"
        },
        "id": "o79DB0MRzkwE",
        "outputId": "24a72214-2ef0-4e2c-b297-c9fea3e29ebb"
      },
      "execution_count": 122,
      "outputs": [
        {
          "output_type": "stream",
          "name": "stdout",
          "text": [
            "BoW Model Architecture:\n",
            "MLP(\n",
            "  (layers): ModuleList(\n",
            "    (0): Linear(in_features=10000, out_features=512, bias=True)\n",
            "    (1): Linear(in_features=512, out_features=256, bias=True)\n",
            "    (2): Linear(in_features=256, out_features=128, bias=True)\n",
            "    (3): Linear(in_features=128, out_features=64, bias=True)\n",
            "  )\n",
            "  (output_layer): Linear(in_features=64, out_features=2, bias=True)\n",
            "  (activation): ReLU()\n",
            "  (dropout): Dropout(p=0.3, inplace=False)\n",
            ")\n"
          ]
        }
      ]
    },
    {
      "cell_type": "code",
      "source": [
        "#counting and printing the number of trainable parameters\n",
        "num_params = count_parameters(model_bow)\n",
        "print(f\"number of trainable parameters: {num_params}\")"
      ],
      "metadata": {
        "colab": {
          "base_uri": "https://localhost:8080/"
        },
        "id": "0pgUd7CHilEz",
        "outputId": "7fa974b9-d4c2-4353-e8b6-40aae2345021"
      },
      "execution_count": 97,
      "outputs": [
        {
          "output_type": "stream",
          "name": "stdout",
          "text": [
            "number of trainable parameters: 5293122\n"
          ]
        }
      ]
    },
    {
      "cell_type": "markdown",
      "source": [
        "Model for Embedding (768 features)"
      ],
      "metadata": {
        "id": "qPO2izxDrEZP"
      }
    },
    {
      "cell_type": "code",
      "source": [
        "device = torch.device(\"cuda\" if torch.cuda.is_available() else \"cpu\")\n",
        "model_embedding = MLP(\n",
        "    input_size=768,\n",
        "    hidden_sizes=[512, 256, 128, 64],\n",
        "    output_size=2,\n",
        "    dropout_prob=0.3\n",
        ").to(device)"
      ],
      "metadata": {
        "id": "HzDlvaicrN8R"
      },
      "execution_count": 115,
      "outputs": []
    },
    {
      "cell_type": "markdown",
      "source": [
        "Model Summary"
      ],
      "metadata": {
        "id": "l8kj_ukyrSRH"
      }
    },
    {
      "cell_type": "code",
      "source": [
        "print(\"Embedding Model Architecture:\")\n",
        "print(model_embedding)"
      ],
      "metadata": {
        "colab": {
          "base_uri": "https://localhost:8080/"
        },
        "id": "Do9oCSYo-yb_",
        "outputId": "8f33570b-2319-42e5-d08b-07f84b8c7d84"
      },
      "execution_count": 145,
      "outputs": [
        {
          "output_type": "stream",
          "name": "stdout",
          "text": [
            "Embedding Model Architecture:\n",
            "MLP(\n",
            "  (layers): ModuleList(\n",
            "    (0): Linear(in_features=768, out_features=512, bias=True)\n",
            "    (1): Linear(in_features=512, out_features=256, bias=True)\n",
            "    (2): Linear(in_features=256, out_features=128, bias=True)\n",
            "    (3): Linear(in_features=128, out_features=64, bias=True)\n",
            "  )\n",
            "  (output_layer): Linear(in_features=64, out_features=2, bias=True)\n",
            "  (activation): ReLU()\n",
            "  (dropout): Dropout(p=0.3, inplace=False)\n",
            ")\n"
          ]
        }
      ]
    },
    {
      "cell_type": "code",
      "source": [
        "#counting and printing the number of trainable parameters\n",
        "num_params = count_parameters(model_embedding)\n",
        "print(f\"number of trainable parameters: {num_params}\")"
      ],
      "metadata": {
        "colab": {
          "base_uri": "https://localhost:8080/"
        },
        "id": "gP6QqOkjrWnx",
        "outputId": "c0e6a89b-6e01-408b-af5b-33e0a47a3b0a"
      },
      "execution_count": 116,
      "outputs": [
        {
          "output_type": "stream",
          "name": "stdout",
          "text": [
            "number of trainable parameters: 566338\n"
          ]
        }
      ]
    },
    {
      "cell_type": "markdown",
      "source": [
        "### **Step 3 : Implementing Bag of Words**"
      ],
      "metadata": {
        "id": "BXM_4OPzcmPy"
      }
    },
    {
      "cell_type": "code",
      "source": [
        "#initializing the countvectorizer with max_features = 10000\n",
        "vectorizer = CountVectorizer(max_features=10000)\n",
        "\n",
        "#fitting the vectorizer on the training data\n",
        "X_train_bow = vectorizer.fit_transform(train_data['sentences'])\n",
        "\n",
        "#transforming the validation and the test data\n",
        "X_val_bow = vectorizer.transform(val_data['sentences'])\n",
        "X_test_bow = vectorizer.transform(test_data['sentences'])\n",
        "\n",
        "#converting the labels to numpy arrays\n",
        "y_train = train_data['labels'].values\n",
        "y_val = val_data['labels'].values\n",
        "y_test = test_data['labels'].values\n",
        "\n",
        "#checking the shape of the BoW features\n",
        "print(f\"training data shape: {X_train_bow.shape}\")\n",
        "print(f\"validation data shape: {X_val_bow.shape}\")\n",
        "print(f\"test data shape: {X_test_bow.shape}\")"
      ],
      "metadata": {
        "colab": {
          "base_uri": "https://localhost:8080/"
        },
        "id": "JRSfb4F1kDuS",
        "outputId": "8132195b-45c6-4fbc-b5c0-41025189cd3e"
      },
      "execution_count": 106,
      "outputs": [
        {
          "output_type": "stream",
          "name": "stdout",
          "text": [
            "training data shape: (5536, 10000)\n",
            "validation data shape: (1384, 10000)\n",
            "test data shape: (1821, 10000)\n"
          ]
        }
      ]
    },
    {
      "cell_type": "markdown",
      "source": [
        "Converting BoW Features to PyTorch Tensors"
      ],
      "metadata": {
        "id": "YuJiHbUTlqhI"
      }
    },
    {
      "cell_type": "code",
      "source": [
        "#converting BoW features to PyTorch tensors\n",
        "X_train_bow = torch.tensor(X_train_bow.toarray(), dtype=torch.float32)\n",
        "X_val_bow = torch.tensor(X_val_bow.toarray(), dtype=torch.float32)\n",
        "X_test_bow = torch.tensor(X_test_bow.toarray(), dtype=torch.float32)\n",
        "\n",
        "#converting lables to PyTorch tensors\n",
        "y_train = torch.tensor(y_train, dtype=torch.long)\n",
        "y_val = torch.tensor(y_val, dtype=torch.long)\n",
        "y_test = torch.tensor(y_test, dtype=torch.long)\n",
        "\n",
        "#checking the shape of the tensors\n",
        "print(f\"training data tensor shape: {X_train_bow.shape}\")\n",
        "print(f\"validation data tensor shape: {X_val_bow.shape}\")\n",
        "print(f\"test data tensor shape: {X_test_bow.shape}\")"
      ],
      "metadata": {
        "colab": {
          "base_uri": "https://localhost:8080/"
        },
        "id": "AOVmk0Yhlwp3",
        "outputId": "82a808f0-96e2-401a-e09e-5c873704fd6c"
      },
      "execution_count": 107,
      "outputs": [
        {
          "output_type": "stream",
          "name": "stdout",
          "text": [
            "training data tensor shape: torch.Size([5536, 10000])\n",
            "validation data tensor shape: torch.Size([1384, 10000])\n",
            "test data tensor shape: torch.Size([1821, 10000])\n"
          ]
        }
      ]
    },
    {
      "cell_type": "markdown",
      "source": [
        "Verifying the Tensors\n"
      ],
      "metadata": {
        "id": "ALxfWZBamcLI"
      }
    },
    {
      "cell_type": "code",
      "source": [
        "#printing the first few rows of the training data\n",
        "print(\"first few rows of training data:\")\n",
        "print(X_train_bow[:5])\n",
        "print(\"\\n\")\n",
        "\n",
        "#printing the corresponding labels\n",
        "print(\"corresponding labels:\")\n",
        "print(y_train[:5])"
      ],
      "metadata": {
        "colab": {
          "base_uri": "https://localhost:8080/"
        },
        "id": "dTsJZfxImglM",
        "outputId": "f6f30520-8e47-4e9c-8cb8-f9574b70fdd6"
      },
      "execution_count": 108,
      "outputs": [
        {
          "output_type": "stream",
          "name": "stdout",
          "text": [
            "first few rows of training data:\n",
            "tensor([[0., 0., 0.,  ..., 0., 0., 0.],\n",
            "        [0., 0., 0.,  ..., 0., 0., 0.],\n",
            "        [0., 0., 0.,  ..., 0., 0., 0.],\n",
            "        [0., 0., 0.,  ..., 0., 0., 0.],\n",
            "        [0., 0., 0.,  ..., 0., 0., 0.]])\n",
            "\n",
            "\n",
            "corresponding labels:\n",
            "tensor([1, 0, 1, 1, 1])\n"
          ]
        }
      ]
    },
    {
      "cell_type": "markdown",
      "source": [
        "Creating DataLoaders"
      ],
      "metadata": {
        "id": "69vAO8QMpWWe"
      }
    },
    {
      "cell_type": "code",
      "source": [
        "from torch.utils.data import DataLoader, TensorDataset\n",
        "\n",
        "batch_size = 32\n",
        "\n",
        "#training dataloader\n",
        "train_dataset_bow = TensorDataset(X_train_bow, y_train)\n",
        "train_loader_bow = DataLoader(train_dataset_bow, batch_size=batch_size, shuffle=True)\n",
        "\n",
        "#validation dataloader\n",
        "val_dataset_bow = TensorDataset(X_val_bow, y_val)\n",
        "val_loader_bow = DataLoader(val_dataset_bow, batch_size=batch_size)\n",
        "\n",
        "#test dataloader\n",
        "test_dataset_bow = TensorDataset(X_test_bow, y_test)\n",
        "test_loader_bow = DataLoader(test_dataset_bow, batch_size=batch_size)"
      ],
      "metadata": {
        "id": "Clz_aEJrpY4s"
      },
      "execution_count": 109,
      "outputs": []
    },
    {
      "cell_type": "markdown",
      "source": [
        "### **Step 4 : Constructing a function to use Embedding on the same model**"
      ],
      "metadata": {
        "id": "xuuk77bSqrT7"
      }
    },
    {
      "cell_type": "code",
      "source": [
        "class TextEmbedder:\n",
        "    def __init__(self, model_name='bert-base-uncased'):\n",
        "        self.device = torch.device('cuda' if torch.cuda.is_available() else 'cpu')\n",
        "        #loading the tokenizer and model for the specified transformer model\n",
        "        self.tokenizer = AutoTokenizer.from_pretrained(model_name)\n",
        "        self.model = AutoModel.from_pretrained(model_name).to(self.device)\n",
        "\n",
        "        if torch.cuda.is_available():\n",
        "            self.model = self.model.half()\n",
        "\n",
        "        self.model.eval()\n",
        "        #getting the embedding size from the model's configuration\n",
        "        self.embedding_size = self.model.config.hidden_size\n",
        "\n",
        "\n",
        "    def get_embeddings(self, texts, max_samples=200, batch_size=16):\n",
        "        #list to store batch embeddings\n",
        "        embeddings = []\n",
        "        texts = texts[:max_samples]\n",
        "\n",
        "        with torch.no_grad():\n",
        "          if torch.cuda.is_available():\n",
        "              with torch.amp.autocast(device_type='cuda'):\n",
        "                  return self._process_batches(texts, batch_size)\n",
        "          else:\n",
        "              return self._process_batches(texts, batch_size)\n",
        "\n",
        "    def _process_batches(self, texts, batch_size):\n",
        "      embeddings = []\n",
        "      for i in range(0, len(texts), batch_size):\n",
        "          batch = texts[i:i+batch_size]\n",
        "          inputs = self.tokenizer(\n",
        "              batch,\n",
        "              padding=True,\n",
        "              truncation=True,\n",
        "              max_length=128,\n",
        "              return_tensors='pt'\n",
        "          ).to(self.device)\n",
        "\n",
        "          outputs = self.model(**inputs)\n",
        "          batch_embeddings = outputs.last_hidden_state[:, 0, :]\n",
        "\n",
        "          #converting to float32 for cpu compatibility\n",
        "          embeddings.append(batch_embeddings.cpu().float())\n",
        "\n",
        "      return torch.cat(embeddings, dim=0)"
      ],
      "metadata": {
        "id": "Noaw9f1LsN3z"
      },
      "execution_count": 126,
      "outputs": []
    },
    {
      "cell_type": "markdown",
      "source": [
        "Initializing the embedder"
      ],
      "metadata": {
        "id": "kyWvuQge53_v"
      }
    },
    {
      "cell_type": "code",
      "source": [
        "embedder = TextEmbedder()"
      ],
      "metadata": {
        "id": "rXS6iLkR8RS_"
      },
      "execution_count": 127,
      "outputs": []
    },
    {
      "cell_type": "markdown",
      "source": [
        "Function to process the embeddings"
      ],
      "metadata": {
        "id": "Tgq3Fn_O57GU"
      }
    },
    {
      "cell_type": "code",
      "source": [
        "def process_embeddings(data, embedder):\n",
        "    texts = data['sentences'].tolist()\n",
        "    embeddings = embedder.get_embeddings(texts)\n",
        "    return TensorDataset(\n",
        "        embeddings,  # Already converted to float32\n",
        "        torch.tensor(data['labels'].values[:len(embeddings)], dtype=torch.long)\n",
        "    )"
      ],
      "metadata": {
        "id": "UFSWHGnx7fkU"
      },
      "execution_count": 128,
      "outputs": []
    },
    {
      "cell_type": "markdown",
      "source": [
        "Creating Dataset and DataLoaders"
      ],
      "metadata": {
        "id": "k2Sqduu22hFF"
      }
    },
    {
      "cell_type": "code",
      "source": [
        "#creating datasets\n",
        "train_dataset_emb = process_embeddings(train_data, embedder)\n",
        "val_dataset_emb = process_embeddings(val_data, embedder)\n",
        "test_dataset_emb = process_embeddings(test_data, embedder)\n",
        "\n",
        "#creating dataloaders\n",
        "train_loader_emb = DataLoader(train_dataset_emb, batch_size=16, shuffle=True)\n",
        "val_loader_emb = DataLoader(val_dataset_emb, batch_size=16)"
      ],
      "metadata": {
        "id": "2ktoRSki2noJ"
      },
      "execution_count": 129,
      "outputs": []
    },
    {
      "cell_type": "markdown",
      "source": [
        "Printing first layer weight shape for both the models"
      ],
      "metadata": {
        "id": "YsqxdLimuV01"
      }
    },
    {
      "cell_type": "code",
      "source": [
        "print(\"\\nBoW model first layer weight shape:\", model_bow.layers[0].weight.shape)\n",
        "print(\"Embed model first layer weight shape:\", model_embedding.layers[0].weight.shape)"
      ],
      "metadata": {
        "colab": {
          "base_uri": "https://localhost:8080/"
        },
        "id": "f33vybAtz5iZ",
        "outputId": "aecc49ca-80a9-433b-dd2d-8524a002870d"
      },
      "execution_count": 124,
      "outputs": [
        {
          "output_type": "stream",
          "name": "stdout",
          "text": [
            "\n",
            "BoW model first layer weight shape: torch.Size([512, 10000])\n",
            "Embed model first layer weight shape: torch.Size([512, 768])\n"
          ]
        }
      ]
    },
    {
      "cell_type": "markdown",
      "source": [
        "### **Step 5: Train the model and create best performing model**"
      ],
      "metadata": {
        "id": "LG6uan_90GDT"
      }
    },
    {
      "cell_type": "code",
      "source": [
        "def train_model(model, train_loader, val_loader, name='model'):\n",
        "    model = model.to(device)\n",
        "    criterion = nn.CrossEntropyLoss()\n",
        "    optimizer = optim.Adam(model.parameters(), lr=0.001)\n",
        "    writer = SummaryWriter(f'runs/{name}')\n",
        "\n",
        "    #logging hyperparameters\n",
        "    writer.add_hparams(\n",
        "        {'lr': 0.001, 'batch_size': train_loader.batch_size, 'model': name},\n",
        "        {'hparam/val_acc': 0}\n",
        "    )\n",
        "\n",
        "    best_acc = 0\n",
        "    for epoch in range(10):\n",
        "        model.train()\n",
        "        train_loss = 0\n",
        "        for inputs, labels in train_loader:\n",
        "            inputs, labels = inputs.to(device), labels.to(device)\n",
        "            optimizer.zero_grad()\n",
        "            outputs = model(inputs)\n",
        "            loss = criterion(outputs, labels)\n",
        "            loss.backward()\n",
        "            torch.nn.utils.clip_grad_norm_(model.parameters(), max_norm=1.0)\n",
        "            optimizer.step()\n",
        "            train_loss += loss.item() * inputs.size(0)\n",
        "\n",
        "        avg_train_loss = train_loss / len(train_loader.dataset)\n",
        "\n",
        "        #validation\n",
        "        model.eval()\n",
        "        val_correct = 0\n",
        "        with torch.no_grad():\n",
        "            for inputs, labels in val_loader:\n",
        "                inputs, labels = inputs.to(device), labels.to(device)\n",
        "                outputs = model(inputs)\n",
        "                val_correct += (torch.argmax(outputs, 1) == labels).sum().item()\n",
        "\n",
        "        val_acc = val_correct / len(val_loader.dataset)\n",
        "        writer.add_scalar('Loss/train', avg_train_loss, epoch)\n",
        "        writer.add_scalar('Accuracy/val', val_acc, epoch)\n",
        "\n",
        "        #saving compressed checkpoint\n",
        "        if val_acc > best_acc:\n",
        "            checkpoint = {\n",
        "                'epoch': epoch,\n",
        "                'model_state_dict': model.state_dict(),\n",
        "                'optimizer_state_dict': optimizer.state_dict(),\n",
        "                'val_acc': val_acc\n",
        "            }\n",
        "            torch.save(checkpoint, f'checkpoint_{name}.pt')\n",
        "            best_acc = val_acc\n",
        "\n",
        "        print(f'Epoch {epoch+1}: Val Acc: {val_acc:.4f}')\n",
        "\n",
        "    writer.close()\n",
        "    return model"
      ],
      "metadata": {
        "id": "3VFDcLvY0U4G"
      },
      "execution_count": 132,
      "outputs": []
    },
    {
      "cell_type": "markdown",
      "source": [
        "Training Both the Models"
      ],
      "metadata": {
        "id": "m6EQ6F120cUt"
      }
    },
    {
      "cell_type": "code",
      "source": [
        "print(\"\\nTraining BOW Model:\")\n",
        "model_bow = train_model(model_bow, train_loader_bow, val_loader_bow, 'bow')\n",
        "\n",
        "print(\"\\nTraining Embedding Model:\")\n",
        "model_emb = train_model(model_embedding, train_loader_emb, val_loader_emb, 'emb')"
      ],
      "metadata": {
        "colab": {
          "base_uri": "https://localhost:8080/"
        },
        "id": "-Cx_MOnl0i3e",
        "outputId": "f5d77506-2020-45e7-cf05-9f7d431a0d40"
      },
      "execution_count": 133,
      "outputs": [
        {
          "output_type": "stream",
          "name": "stdout",
          "text": [
            "\n",
            "Training BOW Model:\n",
            "Epoch 1: Val Acc: 0.8078\n",
            "Epoch 2: Val Acc: 0.7912\n",
            "Epoch 3: Val Acc: 0.8006\n",
            "Epoch 4: Val Acc: 0.7999\n",
            "Epoch 5: Val Acc: 0.8006\n",
            "Epoch 6: Val Acc: 0.7919\n",
            "Epoch 7: Val Acc: 0.7919\n",
            "Epoch 8: Val Acc: 0.7919\n",
            "Epoch 9: Val Acc: 0.7977\n",
            "Epoch 10: Val Acc: 0.7962\n",
            "\n",
            "Training Embedding Model:\n",
            "Epoch 1: Val Acc: 0.5750\n",
            "Epoch 2: Val Acc: 0.5750\n",
            "Epoch 3: Val Acc: 0.6150\n",
            "Epoch 4: Val Acc: 0.7650\n",
            "Epoch 5: Val Acc: 0.8000\n",
            "Epoch 6: Val Acc: 0.8100\n",
            "Epoch 7: Val Acc: 0.8050\n",
            "Epoch 8: Val Acc: 0.7800\n",
            "Epoch 9: Val Acc: 0.8200\n",
            "Epoch 10: Val Acc: 0.7950\n"
          ]
        }
      ]
    },
    {
      "cell_type": "code",
      "source": [
        "!tensorboard --logdir=runs"
      ],
      "metadata": {
        "colab": {
          "base_uri": "https://localhost:8080/"
        },
        "id": "B9wDSNuiwro_",
        "outputId": "4ec08c5e-6c75-4f5a-e49b-f9a50a4c882c"
      },
      "execution_count": 135,
      "outputs": [
        {
          "output_type": "stream",
          "name": "stdout",
          "text": [
            "2025-03-15 17:09:53.687457: E external/local_xla/xla/stream_executor/cuda/cuda_fft.cc:477] Unable to register cuFFT factory: Attempting to register factory for plugin cuFFT when one has already been registered\n",
            "WARNING: All log messages before absl::InitializeLog() is called are written to STDERR\n",
            "E0000 00:00:1742058593.740570   78869 cuda_dnn.cc:8310] Unable to register cuDNN factory: Attempting to register factory for plugin cuDNN when one has already been registered\n",
            "E0000 00:00:1742058593.759141   78869 cuda_blas.cc:1418] Unable to register cuBLAS factory: Attempting to register factory for plugin cuBLAS when one has already been registered\n",
            "2025-03-15 17:10:03.145323: E external/local_xla/xla/stream_executor/cuda/cuda_driver.cc:152] failed call to cuInit: INTERNAL: CUDA error: Failed call to cuInit: UNKNOWN ERROR (303)\n",
            "\n",
            "NOTE: Using experimental fast data loading logic. To disable, pass\n",
            "    \"--load_fast=false\" and report issues on GitHub. More details:\n",
            "    https://github.com/tensorflow/tensorboard/issues/4784\n",
            "\n",
            "Serving TensorBoard on localhost; to expose to the network, use a proxy or pass --bind_all\n",
            "TensorBoard 2.18.0 at http://localhost:6006/ (Press CTRL+C to quit)\n",
            "^C\n"
          ]
        }
      ]
    },
    {
      "cell_type": "markdown",
      "source": [
        "### Step 6 : Using checkpoint and training on IMDB data"
      ],
      "metadata": {
        "id": "v_T1nv3YCD1L"
      }
    },
    {
      "cell_type": "markdown",
      "source": [
        "(a) For embedded model"
      ],
      "metadata": {
        "id": "-O6bGNy6ncpT"
      }
    },
    {
      "cell_type": "code",
      "source": [
        "checkpoint = torch.load('best_emb.pt')\n",
        "model_emb.load_state_dict(checkpoint['model_state_dict'])\n",
        "\n",
        "#initializing optimizer with smaller learning rate\n",
        "criterion = nn.CrossEntropyLoss()\n",
        "optimizer = optim.Adam(model_emb.parameters(), lr=0.0001)"
      ],
      "metadata": {
        "id": "D047t1y2CMy1"
      },
      "execution_count": 85,
      "outputs": []
    },
    {
      "cell_type": "code",
      "source": [
        "#processing IMDB dataset using embeddings\n",
        "train_dataset_imdb = process_embeddings(imdb_train, embedder)\n",
        "val_dataset_imdb = process_embeddings(imdb_val, embedder)\n",
        "\n",
        "#creating IMDB dataloaders\n",
        "train_loader_imdb = DataLoader(train_dataset_imdb, batch_size=16, shuffle=True)\n",
        "val_loader_imdb = DataLoader(val_dataset_imdb, batch_size=16)"
      ],
      "metadata": {
        "id": "Nt2tfsodWzeH"
      },
      "execution_count": 86,
      "outputs": []
    },
    {
      "cell_type": "code",
      "source": [
        "#resuming training on IMDB dataset\n",
        "print(\"\\nResuming training on IMDB dataset:\")\n",
        "model_emb = train_model(model_emb, train_loader_imdb, val_loader_imdb, 'emb_imdb')"
      ],
      "metadata": {
        "colab": {
          "base_uri": "https://localhost:8080/"
        },
        "id": "Ymu8hhYaO6eY",
        "outputId": "272be9f8-60d3-4cc5-b5ea-095679a8523d"
      },
      "execution_count": 87,
      "outputs": [
        {
          "output_type": "stream",
          "name": "stdout",
          "text": [
            "\n",
            "Resuming training on IMDB dataset:\n",
            "Epoch 1: Val Acc: 0.8100\n",
            "Epoch 2: Val Acc: 0.8050\n",
            "Epoch 3: Val Acc: 0.7800\n",
            "Epoch 4: Val Acc: 0.7400\n",
            "Epoch 5: Val Acc: 0.7800\n",
            "Epoch 6: Val Acc: 0.7700\n",
            "Epoch 7: Val Acc: 0.6800\n",
            "Epoch 8: Val Acc: 0.7600\n",
            "Epoch 9: Val Acc: 0.7900\n",
            "Epoch 10: Val Acc: 0.7650\n"
          ]
        }
      ]
    },
    {
      "cell_type": "markdown",
      "source": [
        "(b) For BOW model"
      ],
      "metadata": {
        "id": "LtUftg0knkxb"
      }
    },
    {
      "cell_type": "code",
      "source": [
        "#loading BoW checkpoint from Dataset 1 training\n",
        "checkpoint = torch.load('best_bow.pt')\n",
        "model_bow.load_state_dict(checkpoint['model_state_dict'])\n",
        "\n",
        "#initializing optimizer with smaller learning rate\n",
        "criterion = nn.CrossEntropyLoss()\n",
        "optimizer = optim.Adam(model_bow.parameters(), lr=0.0001)  # Smaller LR\n",
        "\n",
        "#processing IMDB dataset using the BoW vectorizer from Step 3\n",
        "def process_bow_data(data, vectorizer):\n",
        "    texts = data['sentences'].tolist()\n",
        "    features = vectorizer.transform(texts).toarray()\n",
        "    labels = data['labels'].values\n",
        "    return TensorDataset(\n",
        "        torch.FloatTensor(features),\n",
        "        torch.LongTensor(labels)\n",
        "    )\n",
        "\n",
        "#creating IMDB datasets\n",
        "train_dataset_imdb_bow = process_bow_data(imdb_train, vectorizer)  # Use original vectorizer\n",
        "val_dataset_imdb_bow = process_bow_data(imdb_val, vectorizer)\n",
        "\n",
        "#creating IMDB dataloaders\n",
        "train_loader_imdb_bow = DataLoader(train_dataset_imdb_bow, batch_size=16, shuffle=True)\n",
        "val_loader_imdb_bow = DataLoader(val_dataset_imdb_bow, batch_size=16)"
      ],
      "metadata": {
        "id": "1j3LjMWEnmzx"
      },
      "execution_count": 139,
      "outputs": []
    },
    {
      "cell_type": "code",
      "source": [
        "#resuming training on IMDB dataset\n",
        "print(\"\\nResuming training on IMDB dataset (BoW):\")\n",
        "model_bow = train_model(model_bow, train_loader_imdb_bow, val_loader_imdb_bow, 'bow_imdb')"
      ],
      "metadata": {
        "colab": {
          "base_uri": "https://localhost:8080/",
          "height": 454
        },
        "id": "ohbB8X620ZWh",
        "outputId": "fb767eea-0ad6-47d4-899e-93532d717f6d"
      },
      "execution_count": 140,
      "outputs": [
        {
          "output_type": "stream",
          "name": "stdout",
          "text": [
            "\n",
            "Resuming training on IMDB dataset (BoW):\n",
            "Epoch 1: Val Acc: 0.8914\n",
            "Epoch 2: Val Acc: 0.8914\n",
            "Epoch 3: Val Acc: 0.8894\n",
            "Epoch 4: Val Acc: 0.8773\n",
            "Epoch 5: Val Acc: 0.8799\n"
          ]
        },
        {
          "output_type": "error",
          "ename": "KeyboardInterrupt",
          "evalue": "",
          "traceback": [
            "\u001b[0;31m---------------------------------------------------------------------------\u001b[0m",
            "\u001b[0;31mKeyboardInterrupt\u001b[0m                         Traceback (most recent call last)",
            "\u001b[0;32m<ipython-input-140-cd4993eef3bc>\u001b[0m in \u001b[0;36m<cell line: 0>\u001b[0;34m()\u001b[0m\n\u001b[1;32m      1\u001b[0m \u001b[0;31m# Resume training on IMDB dataset\u001b[0m\u001b[0;34m\u001b[0m\u001b[0;34m\u001b[0m\u001b[0m\n\u001b[1;32m      2\u001b[0m \u001b[0mprint\u001b[0m\u001b[0;34m(\u001b[0m\u001b[0;34m\"\\nResuming training on IMDB dataset (BoW):\"\u001b[0m\u001b[0;34m)\u001b[0m\u001b[0;34m\u001b[0m\u001b[0;34m\u001b[0m\u001b[0m\n\u001b[0;32m----> 3\u001b[0;31m \u001b[0mmodel_bow\u001b[0m \u001b[0;34m=\u001b[0m \u001b[0mtrain_model\u001b[0m\u001b[0;34m(\u001b[0m\u001b[0mmodel_bow\u001b[0m\u001b[0;34m,\u001b[0m \u001b[0mtrain_loader_imdb_bow\u001b[0m\u001b[0;34m,\u001b[0m \u001b[0mval_loader_imdb_bow\u001b[0m\u001b[0;34m,\u001b[0m \u001b[0;34m'bow_imdb'\u001b[0m\u001b[0;34m)\u001b[0m\u001b[0;34m\u001b[0m\u001b[0;34m\u001b[0m\u001b[0m\n\u001b[0m",
            "\u001b[0;32m<ipython-input-132-f2677763fb48>\u001b[0m in \u001b[0;36mtrain_model\u001b[0;34m(model, train_loader, val_loader, name)\u001b[0m\n\u001b[1;32m     20\u001b[0m             \u001b[0moutputs\u001b[0m \u001b[0;34m=\u001b[0m \u001b[0mmodel\u001b[0m\u001b[0;34m(\u001b[0m\u001b[0minputs\u001b[0m\u001b[0;34m)\u001b[0m\u001b[0;34m\u001b[0m\u001b[0;34m\u001b[0m\u001b[0m\n\u001b[1;32m     21\u001b[0m             \u001b[0mloss\u001b[0m \u001b[0;34m=\u001b[0m \u001b[0mcriterion\u001b[0m\u001b[0;34m(\u001b[0m\u001b[0moutputs\u001b[0m\u001b[0;34m,\u001b[0m \u001b[0mlabels\u001b[0m\u001b[0;34m)\u001b[0m\u001b[0;34m\u001b[0m\u001b[0;34m\u001b[0m\u001b[0m\n\u001b[0;32m---> 22\u001b[0;31m             \u001b[0mloss\u001b[0m\u001b[0;34m.\u001b[0m\u001b[0mbackward\u001b[0m\u001b[0;34m(\u001b[0m\u001b[0;34m)\u001b[0m\u001b[0;34m\u001b[0m\u001b[0;34m\u001b[0m\u001b[0m\n\u001b[0m\u001b[1;32m     23\u001b[0m             \u001b[0mtorch\u001b[0m\u001b[0;34m.\u001b[0m\u001b[0mnn\u001b[0m\u001b[0;34m.\u001b[0m\u001b[0mutils\u001b[0m\u001b[0;34m.\u001b[0m\u001b[0mclip_grad_norm_\u001b[0m\u001b[0;34m(\u001b[0m\u001b[0mmodel\u001b[0m\u001b[0;34m.\u001b[0m\u001b[0mparameters\u001b[0m\u001b[0;34m(\u001b[0m\u001b[0;34m)\u001b[0m\u001b[0;34m,\u001b[0m \u001b[0mmax_norm\u001b[0m\u001b[0;34m=\u001b[0m\u001b[0;36m1.0\u001b[0m\u001b[0;34m)\u001b[0m  \u001b[0;31m# Optional\u001b[0m\u001b[0;34m\u001b[0m\u001b[0;34m\u001b[0m\u001b[0m\n\u001b[1;32m     24\u001b[0m             \u001b[0moptimizer\u001b[0m\u001b[0;34m.\u001b[0m\u001b[0mstep\u001b[0m\u001b[0;34m(\u001b[0m\u001b[0;34m)\u001b[0m\u001b[0;34m\u001b[0m\u001b[0;34m\u001b[0m\u001b[0m\n",
            "\u001b[0;32m/usr/local/lib/python3.11/dist-packages/torch/_tensor.py\u001b[0m in \u001b[0;36mbackward\u001b[0;34m(self, gradient, retain_graph, create_graph, inputs)\u001b[0m\n\u001b[1;32m    624\u001b[0m                 \u001b[0minputs\u001b[0m\u001b[0;34m=\u001b[0m\u001b[0minputs\u001b[0m\u001b[0;34m,\u001b[0m\u001b[0;34m\u001b[0m\u001b[0;34m\u001b[0m\u001b[0m\n\u001b[1;32m    625\u001b[0m             )\n\u001b[0;32m--> 626\u001b[0;31m         torch.autograd.backward(\n\u001b[0m\u001b[1;32m    627\u001b[0m             \u001b[0mself\u001b[0m\u001b[0;34m,\u001b[0m \u001b[0mgradient\u001b[0m\u001b[0;34m,\u001b[0m \u001b[0mretain_graph\u001b[0m\u001b[0;34m,\u001b[0m \u001b[0mcreate_graph\u001b[0m\u001b[0;34m,\u001b[0m \u001b[0minputs\u001b[0m\u001b[0;34m=\u001b[0m\u001b[0minputs\u001b[0m\u001b[0;34m\u001b[0m\u001b[0;34m\u001b[0m\u001b[0m\n\u001b[1;32m    628\u001b[0m         )\n",
            "\u001b[0;32m/usr/local/lib/python3.11/dist-packages/torch/autograd/__init__.py\u001b[0m in \u001b[0;36mbackward\u001b[0;34m(tensors, grad_tensors, retain_graph, create_graph, grad_variables, inputs)\u001b[0m\n\u001b[1;32m    345\u001b[0m     \u001b[0;31m# some Python versions print out the first line of a multi-line function\u001b[0m\u001b[0;34m\u001b[0m\u001b[0;34m\u001b[0m\u001b[0m\n\u001b[1;32m    346\u001b[0m     \u001b[0;31m# calls in the traceback and some print out the last line\u001b[0m\u001b[0;34m\u001b[0m\u001b[0;34m\u001b[0m\u001b[0m\n\u001b[0;32m--> 347\u001b[0;31m     _engine_run_backward(\n\u001b[0m\u001b[1;32m    348\u001b[0m         \u001b[0mtensors\u001b[0m\u001b[0;34m,\u001b[0m\u001b[0;34m\u001b[0m\u001b[0;34m\u001b[0m\u001b[0m\n\u001b[1;32m    349\u001b[0m         \u001b[0mgrad_tensors_\u001b[0m\u001b[0;34m,\u001b[0m\u001b[0;34m\u001b[0m\u001b[0;34m\u001b[0m\u001b[0m\n",
            "\u001b[0;32m/usr/local/lib/python3.11/dist-packages/torch/autograd/graph.py\u001b[0m in \u001b[0;36m_engine_run_backward\u001b[0;34m(t_outputs, *args, **kwargs)\u001b[0m\n\u001b[1;32m    821\u001b[0m         \u001b[0munregister_hooks\u001b[0m \u001b[0;34m=\u001b[0m \u001b[0m_register_logging_hooks_on_whole_graph\u001b[0m\u001b[0;34m(\u001b[0m\u001b[0mt_outputs\u001b[0m\u001b[0;34m)\u001b[0m\u001b[0;34m\u001b[0m\u001b[0;34m\u001b[0m\u001b[0m\n\u001b[1;32m    822\u001b[0m     \u001b[0;32mtry\u001b[0m\u001b[0;34m:\u001b[0m\u001b[0;34m\u001b[0m\u001b[0;34m\u001b[0m\u001b[0m\n\u001b[0;32m--> 823\u001b[0;31m         return Variable._execution_engine.run_backward(  # Calls into the C++ engine to run the backward pass\n\u001b[0m\u001b[1;32m    824\u001b[0m             \u001b[0mt_outputs\u001b[0m\u001b[0;34m,\u001b[0m \u001b[0;34m*\u001b[0m\u001b[0margs\u001b[0m\u001b[0;34m,\u001b[0m \u001b[0;34m**\u001b[0m\u001b[0mkwargs\u001b[0m\u001b[0;34m\u001b[0m\u001b[0;34m\u001b[0m\u001b[0m\n\u001b[1;32m    825\u001b[0m         )  # Calls into the C++ engine to run the backward pass\n",
            "\u001b[0;31mKeyboardInterrupt\u001b[0m: "
          ]
        }
      ]
    },
    {
      "cell_type": "markdown",
      "source": [
        "### **Step 7 : Computing Validation Loss and Accuracy**"
      ],
      "metadata": {
        "id": "gIOj0J9z1nSi"
      }
    },
    {
      "cell_type": "code",
      "source": [
        "import numpy as np\n",
        "def evaluate_model(model, data_loader, dataset_name=\"Dataset 1\"):\n",
        "    model = model.to(device)\n",
        "    model.eval()\n",
        "    criterion = nn.CrossEntropyLoss()\n",
        "    total_loss = 0.0\n",
        "    all_preds = []\n",
        "    all_labels = []\n",
        "\n",
        "    with torch.no_grad():\n",
        "        for inputs, labels in data_loader:\n",
        "            inputs, labels = inputs.to(device), labels.to(device)\n",
        "            outputs = model(inputs)\n",
        "            loss = criterion(outputs, labels)\n",
        "            total_loss += loss.item() * inputs.size(0)\n",
        "            preds = torch.argmax(outputs, dim=1)\n",
        "            all_preds.extend(preds.cpu().numpy())\n",
        "            all_labels.extend(labels.cpu().numpy())\n",
        "\n",
        "    avg_loss = total_loss / len(data_loader.dataset)\n",
        "    accuracy = (np.array(all_preds) == np.array(all_labels)).mean()\n",
        "\n",
        "    print(f\"Evaluation on {dataset_name}:\")\n",
        "    print(f\"Loss: {avg_loss:.4f}, Accuracy: {accuracy:.4f}\")\n",
        "\n",
        "    return avg_loss, accuracy, all_preds, all_labels\n",
        "\n",
        "#evaluating on dataset 1\n",
        "#bow model\n",
        "print(\"BoW Model:\")\n",
        "loss_d1_bow, acc_d1_bow, _, _ = evaluate_model(model_bow, val_loader_bow, \"Dataset 1\")\n",
        "\n",
        "#BERT model\n",
        "print(\"\\nBERT Model:\")\n",
        "loss_d1_bert, acc_d1_bert, _, _ = evaluate_model(model_emb, val_loader_emb, \"Dataset 1\")\n",
        "\n",
        "#evaluating on IMDB dataset\n",
        "\n",
        "#bow model\n",
        "print(\"\\nBoW Model (IMDB):\")\n",
        "loss_imdb_bow, acc_imdb_bow, _, _ = evaluate_model(model_bow, val_loader_imdb_bow, \"IMDB\")\n",
        "\n",
        "#BERT model\n",
        "print(\"\\nBERT Model (IMDB):\")\n",
        "loss_imdb_bert, acc_imdb_bert, _, _ = evaluate_model(model_emb, val_loader_imdb, \"IMDB\")"
      ],
      "metadata": {
        "colab": {
          "base_uri": "https://localhost:8080/"
        },
        "id": "8_zeuj1yWWLP",
        "outputId": "304986b4-7805-4aa5-e757-268aafb9f577"
      },
      "execution_count": 143,
      "outputs": [
        {
          "output_type": "stream",
          "name": "stdout",
          "text": [
            "BoW Model:\n",
            "Evaluation on Dataset 1:\n",
            "Loss: 1.3438, Accuracy: 0.7840\n",
            "\n",
            "BERT Model:\n",
            "Evaluation on Dataset 1:\n",
            "Loss: 0.5565, Accuracy: 0.8200\n",
            "\n",
            "BoW Model (IMDB):\n",
            "Evaluation on IMDB:\n",
            "Loss: 0.9395, Accuracy: 0.8884\n",
            "\n",
            "BERT Model (IMDB):\n",
            "Evaluation on IMDB:\n",
            "Loss: 0.7411, Accuracy: 0.7500\n"
          ]
        }
      ]
    },
    {
      "cell_type": "code",
      "source": [
        "!tensorboard --logdir=runs"
      ],
      "metadata": {
        "colab": {
          "base_uri": "https://localhost:8080/"
        },
        "id": "K9ySB-xN_Nbi",
        "outputId": "98f7c41c-d95e-43b2-e503-961be1dd9962"
      },
      "execution_count": 149,
      "outputs": [
        {
          "output_type": "stream",
          "name": "stdout",
          "text": [
            "2025-03-15 18:11:51.406407: E external/local_xla/xla/stream_executor/cuda/cuda_fft.cc:477] Unable to register cuFFT factory: Attempting to register factory for plugin cuFFT when one has already been registered\n",
            "WARNING: All log messages before absl::InitializeLog() is called are written to STDERR\n",
            "E0000 00:00:1742062311.463577   93740 cuda_dnn.cc:8310] Unable to register cuDNN factory: Attempting to register factory for plugin cuDNN when one has already been registered\n",
            "E0000 00:00:1742062311.480186   93740 cuda_blas.cc:1418] Unable to register cuBLAS factory: Attempting to register factory for plugin cuBLAS when one has already been registered\n",
            "2025-03-15 18:12:00.507423: E external/local_xla/xla/stream_executor/cuda/cuda_driver.cc:152] failed call to cuInit: INTERNAL: CUDA error: Failed call to cuInit: UNKNOWN ERROR (303)\n",
            "\n",
            "NOTE: Using experimental fast data loading logic. To disable, pass\n",
            "    \"--load_fast=false\" and report issues on GitHub. More details:\n",
            "    https://github.com/tensorflow/tensorboard/issues/4784\n",
            "\n",
            "Serving TensorBoard on localhost; to expose to the network, use a proxy or pass --bind_all\n",
            "TensorBoard 2.18.0 at http://localhost:6006/ (Press CTRL+C to quit)\n",
            "Exception ignored in atexit callback: <function clean_up at 0x7a49c9d249a0>\n",
            "Traceback (most recent call last):\n",
            "  File \"/usr/local/lib/python3.11/dist-packages/jax/_src/api.py\", line 2853, in clean_up\n",
            "    clear_caches()\n",
            "  File \"/usr/local/lib/python3.11/dist-packages/jax/_src/api.py\", line 2878, in clear_caches\n",
            "    pjit._cpp_pjit_cache_explicit_attributes.clear()\n",
            "KeyboardInterrupt: \n"
          ]
        }
      ]
    },
    {
      "cell_type": "code",
      "source": [
        "print(f\"Criterion: {criterion} \\n\")\n",
        "print(f\"Optimizer: {optimizer} \\n\")\n",
        "print(f\"Learning Rate: {optimizer.param_groups[0]['lr']}\\n\")\n",
        "print(f\"Batch Size: {train_loader_emb.batch_size}\\n\")"
      ],
      "metadata": {
        "colab": {
          "base_uri": "https://localhost:8080/"
        },
        "id": "2RbwyzYgZkMI",
        "outputId": "c273440b-9dbe-4b8a-dc51-735f6ef4c2a4"
      },
      "execution_count": 150,
      "outputs": [
        {
          "output_type": "stream",
          "name": "stdout",
          "text": [
            "Criterion: CrossEntropyLoss() \n",
            "\n",
            "Optimizer: Adam (\n",
            "Parameter Group 0\n",
            "    amsgrad: False\n",
            "    betas: (0.9, 0.999)\n",
            "    capturable: False\n",
            "    differentiable: False\n",
            "    eps: 1e-08\n",
            "    foreach: None\n",
            "    fused: None\n",
            "    lr: 0.0001\n",
            "    maximize: False\n",
            "    weight_decay: 0\n",
            ") \n",
            "\n",
            "Learning Rate: 0.0001\n",
            "\n",
            "Batch Size: 16\n",
            "\n"
          ]
        }
      ]
    },
    {
      "cell_type": "code",
      "source": [
        "import matplotlib.pyplot as plt\n",
        "import seaborn as sns\n",
        "from sklearn.metrics import confusion_matrix\n",
        "import numpy as np\n",
        "\n",
        "def plot_confusion_matrix(true_labels, predicted_labels, classes=['Negative', 'Positive'],\n",
        "                          title='Confusion Matrix', filename='confusion_matrix.png'):\n",
        "    \"\"\"\n",
        "    Plots and saves a confusion matrix using seaborn/matplotlib\n",
        "\n",
        "    Args:\n",
        "        true_labels: Array of ground truth labels\n",
        "        predicted_labels: Array of model predictions\n",
        "        classes: List of class names (default: ['Negative', 'Positive'])\n",
        "        title: Title for the plot\n",
        "        filename: Name to save the plot as\n",
        "    \"\"\"\n",
        "    cm = confusion_matrix(true_labels, predicted_labels)\n",
        "\n",
        "    plt.figure(figsize=(8, 6))\n",
        "    sns.heatmap(cm, annot=True, fmt='d', cmap='Blues',\n",
        "                xticklabels=classes,\n",
        "                yticklabels=classes)\n",
        "\n",
        "    plt.title(title)\n",
        "    plt.xlabel('Predicted')\n",
        "    plt.ylabel('True')\n",
        "    plt.savefig(filename, bbox_inches='tight')\n",
        "    plt.show()\n",
        "\n",
        "# Example usage with your model and DataLoader\n",
        "def generate_all_confusion_matrices(model, loaders):\n",
        "    \"\"\"\n",
        "    Generates confusion matrices for multiple datasets\n",
        "\n",
        "    Args:\n",
        "        model: Trained PyTorch model\n",
        "        loaders: Dict of DataLoaders {'name': loader}\n",
        "    \"\"\"\n",
        "    model.eval()\n",
        "\n",
        "    for name, loader in loaders.items():\n",
        "        all_preds = []\n",
        "        all_labels = []\n",
        "\n",
        "        with torch.no_grad():\n",
        "            for inputs, labels in loader:\n",
        "                inputs = inputs.to(device)\n",
        "                outputs = model(inputs)\n",
        "                preds = torch.argmax(outputs, dim=1)\n",
        "                all_preds.extend(preds.cpu().numpy())\n",
        "                all_labels.extend(labels.cpu().numpy())\n",
        "\n",
        "        plot_confusion_matrix(all_labels, all_preds,\n",
        "                             title=f'Confusion Matrix ({name})',\n",
        "                             filename=f'confusion_matrix_{name}.png')\n",
        "\n",
        "# for BoW model\n",
        "generate_all_confusion_matrices(model_bow, {\n",
        "    'Dataset1': val_loader_bow,\n",
        "    'IMDB': val_loader_imdb_bow\n",
        "})\n",
        "\n",
        "# for BERT model\n",
        "generate_all_confusion_matrices(model_emb, {\n",
        "    'Dataset1': val_loader_emb,\n",
        "    'IMDB': val_loader_imdb\n",
        "})"
      ],
      "metadata": {
        "colab": {
          "base_uri": "https://localhost:8080/",
          "height": 1000
        },
        "id": "3AkWNmEEZm5Y",
        "outputId": "587b4175-d69a-4de7-8188-79ae39b25954"
      },
      "execution_count": 154,
      "outputs": [
        {
          "output_type": "display_data",
          "data": {
            "text/plain": [
              "<Figure size 800x600 with 2 Axes>"
            ],
            "image/png": "[encoded data removed]"
          },
          "metadata": {}
        },
        {
          "output_type": "display_data",
          "data": {
            "text/plain": [
              "<Figure size 800x600 with 2 Axes>"
            ],
            "image/png": "[encoded data removed]"
          },
          "metadata": {}
        },
        {
          "output_type": "display_data",
          "data": {
            "text/plain": [
              "<Figure size 800x600 with 2 Axes>"
            ],
            "image/png": "[encoded data removed]"
          },
          "metadata": {}
        },
        {
          "output_type": "display_data",
          "data": {
            "text/plain": [
              "<Figure size 800x600 with 2 Axes>"
            ],
            "image/png": "[encoded data removed]"
          },
          "metadata": {}
        }
      ]
    },
    {
      "cell_type": "code",
      "source": [
        "import matplotlib.pyplot as plt\n",
        "\n",
        "def plot_loss_curves(train_losses, val_losses, model_name=\"Model\", save_path=\"loss_curves.png\"):\n",
        "\n",
        "    plt.figure(figsize=(10, 6))\n",
        "    plt.plot(train_losses, label='Training Loss')\n",
        "    plt.plot(val_losses, label='Validation Loss', linestyle='--')\n",
        "\n",
        "    plt.title(f\"{model_name} - Loss Curves\")\n",
        "    plt.xlabel(\"Epoch\")\n",
        "    plt.ylabel(\"Loss\")\n",
        "    plt.legend()\n",
        "    plt.grid(True)\n",
        "    plt.savefig(save_path, bbox_inches='tight')\n",
        "    plt.show()\n",
        "\n",
        "# Modified training function to track losses\n",
        "def train_model(model, train_loader, val_loader, epochs=10, lr=0.001):\n",
        "    optimizer = optim.Adam(model.parameters(), lr=lr)\n",
        "    criterion = nn.CrossEntropyLoss()\n",
        "\n",
        "    train_losses = []\n",
        "    val_losses = []\n",
        "\n",
        "    for epoch in range(epochs):\n",
        "        # Training phase\n",
        "        model.train()\n",
        "        epoch_train_loss = 0\n",
        "        for inputs, labels in train_loader:\n",
        "            optimizer.zero_grad()\n",
        "            outputs = model(inputs)\n",
        "            loss = criterion(outputs, labels)\n",
        "            loss.backward()\n",
        "            optimizer.step()\n",
        "            epoch_train_loss += loss.item()\n",
        "\n",
        "        avg_train_loss = epoch_train_loss/len(train_loader)\n",
        "        train_losses.append(avg_train_loss)\n",
        "\n",
        "        # Validation phase\n",
        "        model.eval()\n",
        "        epoch_val_loss = 0\n",
        "        with torch.no_grad():\n",
        "            for inputs, labels in val_loader:\n",
        "                outputs = model(inputs)\n",
        "                loss = criterion(outputs, labels)\n",
        "                epoch_val_loss += loss.item()\n",
        "\n",
        "        avg_val_loss = epoch_val_loss/len(val_loader)\n",
        "        val_losses.append(avg_val_loss)\n",
        "\n",
        "        print(f\"Epoch {epoch+1}/{epochs} | \"\n",
        "              f\"Train Loss: {avg_train_loss:.4f} | \"\n",
        "              f\"Val Loss: {avg_val_loss:.4f}\")\n",
        "\n",
        "    # Plot after training completes\n",
        "    plot_loss_curves(train_losses, val_losses,\n",
        "                    model_name=model.__class__.__name__,\n",
        "                    save_path=f\"{model.__class__.__name__}_loss_curves.png\")\n",
        "\n",
        "    return model"
      ],
      "metadata": {
        "id": "73JnHhVzaGF-"
      },
      "execution_count": 156,
      "outputs": []
    },
    {
      "cell_type": "code",
      "source": [],
      "metadata": {
        "id": "o9aG7Mi6Clnh"
      },
      "execution_count": null,
      "outputs": []
    }
  ]
}